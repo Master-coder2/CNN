{
 "cells": [
  {
   "cell_type": "code",
   "execution_count": 39,
   "metadata": {},
   "outputs": [],
   "source": [
    "#mport numpy as np\n",
    "import matplotlib.pyplot as plt\n",
    "%matplotlib inline\n",
    "from sklearn.model_selection import train_test_split\n",
    "from keras.utils.np_utils import to_categorical\n",
    "from keras.models import Sequential\n",
    "from keras.layers import Dense,Dropout,Flatten,Conv2D,MaxPool2D,BatchNormalization \n",
    "from keras.optimizers import Adam\n",
    "from keras.preprocessing.image import ImageDataGenerator\n",
    "from keras.callbacks import LearningRateScheduler\n",
    "import pandas as pd"
   ]
  },
  {
   "cell_type": "code",
   "execution_count": 40,
   "metadata": {},
   "outputs": [
    {
     "data": {
      "text/plain": [
       "(42000, 785)"
      ]
     },
     "execution_count": 40,
     "metadata": {},
     "output_type": "execute_result"
    }
   ],
   "source": [
    "data = pd.read_csv(\"train.csv\")\n",
    "data_test=pd.read_csv(\"test.csv\")\n",
    "data.shape\n"
   ]
  },
  {
   "cell_type": "code",
   "execution_count": 41,
   "metadata": {},
   "outputs": [],
   "source": [
    "# processing of data\n",
    "Y_train = data[\"label\"]\n",
    "X_train = data.drop(labels=[\"label\"],axis=1)"
   ]
  },
  {
   "cell_type": "code",
   "execution_count": 42,
   "metadata": {},
   "outputs": [],
   "source": [
    "X_train = X_train/255.0\n",
    "X_train = X_train.astype('float32')\n",
    "X_test = data_test/255.0\n",
    "X_test = X_test.astype('float32')\n",
    "X_train = X_train.values.reshape(X_train.shape[0],28,28,1)\n",
    "X_test = X_test.values.reshape(X_test.shape[0],28,28,1)\n",
    "\n",
    "Y_train = to_categorical(Y_train,num_classes=10)"
   ]
  },
  {
   "cell_type": "code",
   "execution_count": 44,
   "metadata": {},
   "outputs": [],
   "source": [
    "datagen =ImageDataGenerator(\n",
    "         rotation_range=10,\n",
    "         zoom_range=0.1,\n",
    "         width_shift_range=0.1,\n",
    "         height_shift_range=0.1 )\n",
    "datagen.fit(X_train)\n",
    "X_train,X_val,Y_train,Y_val = train_test_split(X_train,Y_train,test_size=0.2)"
   ]
  },
  {
   "cell_type": "code",
   "execution_count": 50,
   "metadata": {},
   "outputs": [],
   "source": [
    "model=Sequential()\n",
    "\n",
    "model.add(Conv2D(32,kernel_size=5,input_shape=(28,28,1),activation='relu'))\n",
    "model.add(Conv2D(32,kernel_size=5,activation='relu'))\n",
    "model.add(MaxPool2D(2,2))\n",
    "model.add(BatchNormalization())\n",
    "model.add(Dropout(0.4))\n",
    "\n",
    "model.add(Conv2D(64,kernel_size=3,activation='relu'))\n",
    "model.add(Conv2D(64,kernel_size=3,activation='relu'))\n",
    "model.add(MaxPool2D(2,2))\n",
    "model.add(BatchNormalization())\n",
    "model.add(Dropout(0.4))\n",
    "\n",
    "model.add(Conv2D(128,kernel_size=3,activation='relu'))\n",
    "model.add(BatchNormalization())\n",
    "\n",
    "model.add(Flatten())\n",
    "model.add(Dense(256, activation = \"relu\"))\n",
    "model.add(Dropout(0.4))\n",
    "model.add(Dense(128, activation = \"relu\"))\n",
    "model.add(Dropout(0.4))\n",
    "model.add(Dense(10, activation = \"softmax\"))\n"
   ]
  },
  {
   "cell_type": "code",
   "execution_count": 51,
   "metadata": {},
   "outputs": [
    {
     "name": "stdout",
     "output_type": "stream",
     "text": [
      "_________________________________________________________________\n",
      "Layer (type)                 Output Shape              Param #   \n",
      "=================================================================\n",
      "conv2d_8 (Conv2D)            (None, 24, 24, 32)        832       \n",
      "_________________________________________________________________\n",
      "conv2d_9 (Conv2D)            (None, 20, 20, 32)        25632     \n",
      "_________________________________________________________________\n",
      "max_pooling2d_3 (MaxPooling2 (None, 10, 10, 32)        0         \n",
      "_________________________________________________________________\n",
      "batch_normalization_3 (Batch (None, 10, 10, 32)        128       \n",
      "_________________________________________________________________\n",
      "dropout_3 (Dropout)          (None, 10, 10, 32)        0         \n",
      "_________________________________________________________________\n",
      "conv2d_10 (Conv2D)           (None, 8, 8, 64)          18496     \n",
      "_________________________________________________________________\n",
      "conv2d_11 (Conv2D)           (None, 6, 6, 64)          36928     \n",
      "_________________________________________________________________\n",
      "max_pooling2d_4 (MaxPooling2 (None, 3, 3, 64)          0         \n",
      "_________________________________________________________________\n",
      "batch_normalization_4 (Batch (None, 3, 3, 64)          256       \n",
      "_________________________________________________________________\n",
      "dropout_4 (Dropout)          (None, 3, 3, 64)          0         \n",
      "_________________________________________________________________\n",
      "conv2d_12 (Conv2D)           (None, 1, 1, 128)         73856     \n",
      "_________________________________________________________________\n",
      "batch_normalization_5 (Batch (None, 1, 1, 128)         512       \n",
      "_________________________________________________________________\n",
      "flatten_1 (Flatten)          (None, 128)               0         \n",
      "_________________________________________________________________\n",
      "dense_1 (Dense)              (None, 256)               33024     \n",
      "_________________________________________________________________\n",
      "dropout_5 (Dropout)          (None, 256)               0         \n",
      "_________________________________________________________________\n",
      "dense_2 (Dense)              (None, 128)               32896     \n",
      "_________________________________________________________________\n",
      "dropout_6 (Dropout)          (None, 128)               0         \n",
      "_________________________________________________________________\n",
      "dense_3 (Dense)              (None, 10)                1290      \n",
      "=================================================================\n",
      "Total params: 223,850\n",
      "Trainable params: 223,402\n",
      "Non-trainable params: 448\n",
      "_________________________________________________________________\n"
     ]
    }
   ],
   "source": [
    "optimizer=Adam(lr=0.01)\n",
    "model.compile(optimizer=optimizer,loss = \"categorical_crossentropy\", metrics=[\"accuracy\"])\n",
    "model.summary()"
   ]
  },
  {
   "cell_type": "code",
   "execution_count": 53,
   "metadata": {},
   "outputs": [
    {
     "name": "stdout",
     "output_type": "stream",
     "text": [
      "Epoch 1/30\n",
      "300/300 [==============================] - 162s 539ms/step - loss: 0.2104 - acc: 0.9565 - val_loss: 0.0655 - val_acc: 0.9861\n",
      "Epoch 2/30\n",
      "300/300 [==============================] - 169s 562ms/step - loss: 0.1676 - acc: 0.9646 - val_loss: 0.0587 - val_acc: 0.9875\n",
      "Epoch 3/30\n",
      "300/300 [==============================] - 174s 581ms/step - loss: 0.1603 - acc: 0.9667 - val_loss: 0.1574 - val_acc: 0.9694\n",
      "Epoch 4/30\n",
      "300/300 [==============================] - 191s 637ms/step - loss: 0.1677 - acc: 0.9636 - val_loss: 0.0716 - val_acc: 0.9882\n",
      "Epoch 5/30\n",
      "300/300 [==============================] - 198s 660ms/step - loss: 0.1652 - acc: 0.9654 - val_loss: 0.0581 - val_acc: 0.9875\n",
      "Epoch 6/30\n",
      "300/300 [==============================] - 163s 543ms/step - loss: 0.1823 - acc: 0.9629 - val_loss: 0.0759 - val_acc: 0.9862\n",
      "Epoch 7/30\n",
      "300/300 [==============================] - 154s 513ms/step - loss: 0.1708 - acc: 0.9640 - val_loss: 0.0602 - val_acc: 0.9881\n",
      "Epoch 8/30\n",
      "300/300 [==============================] - 180s 601ms/step - loss: 0.1611 - acc: 0.9640 - val_loss: 0.0856 - val_acc: 0.9833\n",
      "Epoch 9/30\n",
      "300/300 [==============================] - 194s 648ms/step - loss: 0.1956 - acc: 0.9625 - val_loss: 0.0733 - val_acc: 0.9865\n",
      "Epoch 10/30\n",
      "300/300 [==============================] - 187s 624ms/step - loss: 0.2221 - acc: 0.9558 - val_loss: 0.3030 - val_acc: 0.9386\n",
      "Epoch 11/30\n",
      "300/300 [==============================] - 192s 642ms/step - loss: 0.2317 - acc: 0.9543 - val_loss: 0.1034 - val_acc: 0.9788\n",
      "Epoch 12/30\n",
      "300/300 [==============================] - 178s 592ms/step - loss: 0.2127 - acc: 0.9601 - val_loss: 0.0653 - val_acc: 0.9877\n",
      "Epoch 13/30\n",
      "300/300 [==============================] - 177s 591ms/step - loss: 0.1793 - acc: 0.9640 - val_loss: 0.0682 - val_acc: 0.9854\n",
      "Epoch 14/30\n",
      "300/300 [==============================] - 177s 591ms/step - loss: 0.1865 - acc: 0.9606 - val_loss: 0.0754 - val_acc: 0.9876\n",
      "Epoch 15/30\n",
      "300/300 [==============================] - 134s 445ms/step - loss: 0.2268 - acc: 0.9548 - val_loss: 0.1005 - val_acc: 0.9824\n",
      "Epoch 16/30\n",
      "300/300 [==============================] - 123s 409ms/step - loss: 0.1906 - acc: 0.9617 - val_loss: 0.0679 - val_acc: 0.9886\n",
      "Epoch 17/30\n",
      "300/300 [==============================] - 122s 407ms/step - loss: 0.1913 - acc: 0.9627 - val_loss: 0.0847 - val_acc: 0.9852\n",
      "Epoch 18/30\n",
      "300/300 [==============================] - 150s 501ms/step - loss: 0.1743 - acc: 0.9638 - val_loss: 0.0694 - val_acc: 0.9875\n",
      "Epoch 19/30\n",
      "300/300 [==============================] - 147s 488ms/step - loss: 0.1921 - acc: 0.9631 - val_loss: 0.0636 - val_acc: 0.9890\n",
      "Epoch 20/30\n",
      "300/300 [==============================] - 144s 481ms/step - loss: 0.1956 - acc: 0.9627 - val_loss: 0.0630 - val_acc: 0.9871\n",
      "Epoch 21/30\n",
      "300/300 [==============================] - 141s 469ms/step - loss: 0.1875 - acc: 0.9627 - val_loss: 0.0725 - val_acc: 0.9877\n",
      "Epoch 22/30\n",
      "300/300 [==============================] - 141s 468ms/step - loss: 0.1846 - acc: 0.9666 - val_loss: 0.0628 - val_acc: 0.9885\n",
      "Epoch 23/30\n",
      "300/300 [==============================] - 143s 477ms/step - loss: 0.1833 - acc: 0.9599 - val_loss: 0.0762 - val_acc: 0.9857\n",
      "Epoch 24/30\n",
      "300/300 [==============================] - 147s 488ms/step - loss: 0.1822 - acc: 0.9609 - val_loss: 0.4631 - val_acc: 0.8771\n",
      "Epoch 25/30\n",
      "300/300 [==============================] - 144s 480ms/step - loss: 0.2194 - acc: 0.9584 - val_loss: 0.0568 - val_acc: 0.9870\n",
      "Epoch 26/30\n",
      "300/300 [==============================] - 141s 471ms/step - loss: 0.1776 - acc: 0.9659 - val_loss: 0.0730 - val_acc: 0.9886\n",
      "Epoch 27/30\n",
      "300/300 [==============================] - 145s 482ms/step - loss: 0.2423 - acc: 0.9536 - val_loss: 0.0833 - val_acc: 0.9843\n",
      "Epoch 28/30\n",
      "300/300 [==============================] - 142s 474ms/step - loss: 0.2068 - acc: 0.9632 - val_loss: 0.0837 - val_acc: 0.9868\n",
      "Epoch 29/30\n",
      "300/300 [==============================] - 143s 475ms/step - loss: 0.2314 - acc: 0.9539 - val_loss: 0.0932 - val_acc: 0.9788\n",
      "Epoch 30/30\n",
      "300/300 [==============================] - 142s 475ms/step - loss: 0.2022 - acc: 0.9597 - val_loss: 0.0721 - val_acc: 0.9855\n"
     ]
    }
   ],
   "source": [
    "model_try = model.fit_generator(datagen.flow(X_train,Y_train, batch_size=64),\n",
    "                              epochs = 30, validation_data = (X_val,Y_val),\n",
    "                              verbose = 1, steps_per_epoch=300)\n",
    "\n",
    "predictions = model.predict(X_test)\n",
    "predictions = np.argmax(predictions,axis = 1)\n",
    "predictions = pd.Series(predictions, name=\"Label\")\n",
    "submit = pd.concat([pd.Series(range(1,28001),name = \"ImageId\"),predictions],axis = 1)\n",
    "submit.to_csv(\"result.csv\",index=False)"
   ]
  },
  {
   "cell_type": "code",
   "execution_count": null,
   "metadata": {},
   "outputs": [],
   "source": []
  }
 ],
 "metadata": {
  "kernelspec": {
   "display_name": "Python 3",
   "language": "python",
   "name": "python3"
  },
  "language_info": {
   "codemirror_mode": {
    "name": "ipython",
    "version": 3
   },
   "file_extension": ".py",
   "mimetype": "text/x-python",
   "name": "python",
   "nbconvert_exporter": "python",
   "pygments_lexer": "ipython3",
   "version": "3.6.4"
  },
  "widgets": {
   "application/vnd.jupyter.widget-state+json": {
    "state": {},
    "version_major": 2,
    "version_minor": 0
   }
  }
 },
 "nbformat": 4,
 "nbformat_minor": 2
}
